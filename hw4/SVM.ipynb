{
 "cells": [
  {
   "cell_type": "code",
   "execution_count": 1,
   "metadata": {},
   "outputs": [],
   "source": [
    "import numpy as np\n",
    "from matplotlib import pyplot as plt"
   ]
  },
  {
   "cell_type": "code",
   "execution_count": 68,
   "metadata": {},
   "outputs": [
    {
     "name": "stdout",
     "output_type": "stream",
     "text": [
      "(100, 3)\n",
      "[[-1.1003e+00 -8.6020e-01]\n",
      " [-7.3000e-01 -5.9660e-01]\n",
      " [-1.2380e+00 -6.1280e-01]\n",
      " [-3.9600e-01  1.7523e+00]\n",
      " [-1.0690e+00  2.1110e-01]\n",
      " [-3.8320e-01  5.8910e-01]\n",
      " [-7.4620e-01 -7.7610e-01]\n",
      " [ 4.9620e-01  1.8427e+00]\n",
      " [-9.2310e-01 -3.0200e-02]\n",
      " [-5.0000e-03  1.0260e+00]\n",
      " [ 1.2430e-01  2.6492e+00]\n",
      " [-4.3730e-01  5.8700e-02]\n",
      " [-5.4980e-01  1.7667e+00]\n",
      " [-7.1480e-01  1.8480e-01]\n",
      " [ 3.7100e-02  4.3140e-01]\n",
      " [-8.7300e-01 -5.0830e-01]\n",
      " [-3.4680e-01  1.9000e-01]\n",
      " [-1.5290e-01  7.8810e-01]\n",
      " [-1.2112e+00  1.6279e+00]\n",
      " [-1.5640e-01  1.2988e+00]\n",
      " [-7.3580e-01 -4.0110e-01]\n",
      " [-4.7080e-01  4.1520e-01]\n",
      " [-1.2239e+00  9.3780e-01]\n",
      " [-6.2730e-01  4.1540e-01]\n",
      " [-6.9810e-01  6.3300e-02]\n",
      " [-8.7060e-01 -2.4990e-01]\n",
      " [-1.2500e+00  8.2300e-02]\n",
      " [-1.3537e+00 -3.2770e-01]\n",
      " [-6.5990e-01  2.2360e-01]\n",
      " [ 4.7100e-02  1.0537e+00]\n",
      " [-1.2110e-01  1.5584e+00]\n",
      " [-1.4100e-02  1.5681e+00]\n",
      " [-2.3520e-01  7.7330e-01]\n",
      " [-1.0532e+00  6.3480e-01]\n",
      " [-2.2070e-01  2.7990e-01]\n",
      " [-4.3030e-01 -8.5230e-01]\n",
      " [-1.0459e+00 -5.2050e-01]\n",
      " [-1.0324e+00  1.3878e+00]\n",
      " [-6.6800e-02  2.1190e-01]\n",
      " [-2.7450e-01  1.3254e+00]\n",
      " [-2.7140e-01  1.1157e+00]\n",
      " [-6.2110e-01 -2.7500e-02]\n",
      " [-3.2890e-01  9.8560e-01]\n",
      " [ 3.7240e-01  2.0112e+00]\n",
      " [-2.8200e-01  8.5110e-01]\n",
      " [-8.8800e-02  1.7430e-01]\n",
      " [-2.2360e-01  3.7920e-01]\n",
      " [-5.7200e-01  1.5320e-01]\n",
      " [ 4.5550e-01  1.5343e+00]\n",
      " [-2.5140e-01  5.9390e-01]\n",
      " [-8.6020e-01 -8.6880e-01]\n",
      " [-5.9660e-01  6.9900e-01]\n",
      " [-6.1280e-01 -5.5260e-01]\n",
      " [ 1.7523e+00  4.9800e-02]\n",
      " [ 2.1110e-01 -2.9020e-01]\n",
      " [ 5.8910e-01 -7.8580e-01]\n",
      " [-7.7610e-01  1.5549e+00]\n",
      " [ 1.8427e+00 -4.0810e-01]\n",
      " [-3.0200e-02  7.2140e-01]\n",
      " [ 1.0260e+00 -1.9150e+00]\n",
      " [ 2.6492e+00 -6.9160e-01]\n",
      " [ 5.8700e-02  4.2680e-01]\n",
      " [ 1.7667e+00 -4.1290e-01]\n",
      " [ 1.8480e-01  1.1635e+00]\n",
      " [ 4.3140e-01  4.4270e-01]\n",
      " [-5.0830e-01 -6.7480e-01]\n",
      " [ 1.9000e-01 -2.5230e-01]\n",
      " [ 7.8810e-01 -2.5482e+00]\n",
      " [ 1.6279e+00  2.4000e-03]\n",
      " [ 1.2988e+00  1.7118e+00]\n",
      " [-4.0110e-01 -9.0440e-01]\n",
      " [ 4.1520e-01  5.6930e-01]\n",
      " [ 9.3780e-01 -3.9650e-01]\n",
      " [ 4.1540e-01  4.8510e-01]\n",
      " [ 6.3300e-02 -1.0108e+00]\n",
      " [-2.4990e-01 -1.0000e+00]\n",
      " [ 8.2300e-02  3.1780e-01]\n",
      " [-3.2770e-01 -6.5300e-02]\n",
      " [ 2.2360e-01  1.9260e-01]\n",
      " [ 1.0537e+00 -5.5350e-01]\n",
      " [ 1.5584e+00 -2.4580e-01]\n",
      " [ 1.5681e+00 -2.6174e+00]\n",
      " [ 7.7330e-01  1.8410e-01]\n",
      " [ 6.3480e-01  2.9500e-01]\n",
      " [ 2.7990e-01  8.1440e-01]\n",
      " [-8.5230e-01 -8.4190e-01]\n",
      " [-5.2050e-01 -1.0689e+00]\n",
      " [ 1.3878e+00 -4.2080e-01]\n",
      " [ 2.1190e-01 -1.9200e-02]\n",
      " [ 1.3254e+00 -6.7020e-01]\n",
      " [ 1.1157e+00 -6.0840e-01]\n",
      " [-2.7500e-02 -6.8370e-01]\n",
      " [ 9.8560e-01  6.9900e-01]\n",
      " [ 2.0112e+00 -8.6180e-01]\n",
      " [ 8.5110e-01 -1.0450e+00]\n",
      " [ 1.7430e-01 -3.8150e-01]\n",
      " [ 3.7920e-01  9.0230e-01]\n",
      " [ 1.5320e-01 -2.6590e-01]\n",
      " [ 1.5343e+00 -1.0130e+00]\n",
      " [ 5.9390e-01  2.2200e-02]]\n"
     ]
    }
   ],
   "source": [
    "data=np.loadtxt('/home/yanhua/iris-pca.txt')\n",
    "print (data.shape)\n",
    "pca1= data[:,0].reshape(100,1)\n",
    "pca2= data[:,1].reshape(100,1)\n",
    "label=data[:,2].reshape(100,1)\n",
    "pca= data[:,0:2]\n",
    "print (pca)\n"
   ]
  },
  {
   "cell_type": "code",
   "execution_count": 34,
   "metadata": {},
   "outputs": [
    {
     "name": "stdout",
     "output_type": "stream",
     "text": [
      "(array([ 0,  1,  2,  3,  4,  5,  6,  7,  8,  9, 10, 11, 12, 13, 14, 15, 16,\n",
      "       17, 18, 19, 20, 21, 22, 23, 24, 25, 26, 27, 28, 29, 30, 31, 32, 33,\n",
      "       34, 35, 36, 37, 38, 39, 40, 41, 42, 43, 44, 45, 46, 47, 48, 49]), array([0, 0, 0, 0, 0, 0, 0, 0, 0, 0, 0, 0, 0, 0, 0, 0, 0, 0, 0, 0, 0, 0,\n",
      "       0, 0, 0, 0, 0, 0, 0, 0, 0, 0, 0, 0, 0, 0, 0, 0, 0, 0, 0, 0, 0, 0,\n",
      "       0, 0, 0, 0, 0, 0]))\n",
      "(50, 1)\n",
      "(50, 1)\n"
     ]
    }
   ],
   "source": [
    "print (np.where(label==0))\n",
    "print (pca1[-50:].shape)\n",
    "print (pca1[50:].shape)"
   ]
  },
  {
   "cell_type": "code",
   "execution_count": 56,
   "metadata": {},
   "outputs": [
    {
     "data": {
      "image/png": "[encoded data removed]",
      "text/plain": [
       "<Figure size 432x288 with 1 Axes>"
      ]
     },
     "metadata": {},
     "output_type": "display_data"
    }
   ],
   "source": [
    "fig = plt.figure()  \n",
    "ax1 = fig.add_subplot(111)  \n",
    "#设置标题  \n",
    "ax1.set_title('Scatter Plot')  \n",
    "#设置X轴标签  \n",
    "plt.xlabel('pca1')  \n",
    "#设置Y轴标签  \n",
    "plt.ylabel('pca2')  \n",
    "#画散点图  \n",
    "\n",
    "ax1.scatter(pca1[:50], pca2[:50], s=10, c='b', marker=\"s\", label='Setosa')\n",
    "\n",
    "ax1.scatter(pca1[-50:],pca2[-50:], s=10, c='r', marker=\"o\", label='Virginica')\n",
    "\n",
    "#显示所画的图  \n",
    "plt.show() "
   ]
  },
  {
   "cell_type": "code",
   "execution_count": 69,
   "metadata": {},
   "outputs": [],
   "source": [
    "from sklearn import svm"
   ]
  },
  {
   "cell_type": "code",
   "execution_count": 70,
   "metadata": {},
   "outputs": [
    {
     "name": "stderr",
     "output_type": "stream",
     "text": [
      "/home/yanhua/anaconda3/envs/tensorflow/lib/python3.6/site-packages/sklearn/utils/validation.py:578: DataConversionWarning: A column-vector y was passed when a 1d array was expected. Please change the shape of y to (n_samples, ), for example using ravel().\n",
      "  y = column_or_1d(y, warn=True)\n"
     ]
    },
    {
     "data": {
      "text/plain": [
       "SVC(C=1.0, cache_size=200, class_weight=None, coef0=0.0,\n",
       "  decision_function_shape='ovr', degree=3, gamma='auto', kernel='linear',\n",
       "  max_iter=-1, probability=False, random_state=None, shrinking=True,\n",
       "  tol=0.001, verbose=False)"
      ]
     },
     "execution_count": 70,
     "metadata": {},
     "output_type": "execute_result"
    }
   ],
   "source": [
    "model = svm.SVC(kernel='linear')\n",
    "model.fit(pca, label)"
   ]
  },
  {
   "cell_type": "code",
   "execution_count": 85,
   "metadata": {},
   "outputs": [],
   "source": [
    "\n",
    "# Get the separating hyperplane# Get th \n",
    "w = model.coef_[0]\n",
    "a = -w[0] / w[1]\n",
    "xx = np.linspace(-1.5, 3)\n",
    "yy = a * xx - (model.intercept_[0]) / w[1]\n",
    "\n",
    "# Plot the parallels to the separating hyperplane that pass through the support vectors\n",
    "b = model.support_vectors_[0]\n",
    "yy_down = a * xx + (b[1] - a * b[0])\n",
    "b = model.support_vectors_[-1]\n",
    "yy_up = a * xx + (b[1] - a * b[0])\n"
   ]
  },
  {
   "cell_type": "code",
   "execution_count": 87,
   "metadata": {},
   "outputs": [
    {
     "data": {
      "image/png": "[encoded data removed]",
      "text/plain": [
       "<Figure size 432x288 with 1 Axes>"
      ]
     },
     "metadata": {},
     "output_type": "display_data"
    }
   ],
   "source": [
    "fig = plt.figure()  \n",
    "ax1 = fig.add_subplot(111) \n",
    "plt.xlabel('pca1')  \n",
   
    "plt.ylabel('pca2')  \n",
  
    "\n",
    "ax1.scatter(pca1[:50], pca2[:50], s=10, c='b', marker=\"s\", label='Setosa')\n",
    "\n",
    "ax1.scatter(pca1[-50:],pca2[-50:], s=10, c='r', marker=\"o\", label='Virginica')\n",
    "plt.plot(xx, yy, linewidth=1.5, color='black')\n",
    "plt.plot(xx, yy_down, 'k--')\n",
    "plt.plot(xx, yy_up, 'k--')\n",
    "plt.show()"
   ]
  },
  {
   "cell_type": "code",
   "execution_count": null,
   "metadata": {},
   "outputs": [],
   "source": []
  }
 ],
 "metadata": {
  "kernelspec": {
   "display_name": "Python 3",
   "language": "python",
   "name": "python3"
  },
  "language_info": {
   "codemirror_mode": {
    "name": "ipython",
    "version": 3
   },
   "file_extension": ".py",
   "mimetype": "text/x-python",
   "name": "python",
   "nbconvert_exporter": "python",
   "pygments_lexer": "ipython3",
   "version": "3.6.5"
  }
 },
 "nbformat": 4,
 "nbformat_minor": 2
}
